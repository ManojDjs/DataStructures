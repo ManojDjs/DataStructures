{
 "cells": [
  {
   "cell_type": "code",
   "execution_count": 91,
   "metadata": {},
   "outputs": [
    {
     "name": "stdout",
     "output_type": "stream",
     "text": [
      "mumbai\n",
      "1\n",
      "pune\n",
      "2\n",
      "kolkata\n",
      "3\n",
      "vizag\n",
      "4\n",
      "         mumbai    pune  kolkata  vizag\n",
      "mumbai      0.0  1080.0      0.0    0.0\n",
      "pune     1080.0     0.0      0.0    0.0\n",
      "kolkata     0.0     0.0      0.0    0.0\n",
      "vizag       0.0     0.0      0.0    0.0\n",
      "hyd\n",
      "5\n",
      "chennai\n",
      "6\n",
      "bnglr\n",
      "7\n",
      "delhi\n",
      "8\n",
      "         mumbai    pune  kolkata  vizag  hyd  chennai  bnglr  delhi\n",
      "mumbai      0.0  1080.0      0.0    0.0  0.0      0.0    0.0    0.0\n",
      "pune     1080.0     0.0      0.0    0.0  0.0      0.0    0.0    0.0\n",
      "kolkata     0.0     0.0      0.0    0.0  0.0      0.0    0.0    0.0\n",
      "vizag       0.0     0.0      0.0    0.0  0.0      0.0    0.0    0.0\n",
      "hyd         0.0     0.0      0.0    0.0  0.0      0.0    0.0    0.0\n",
      "chennai     0.0     0.0      0.0    0.0  0.0      0.0    0.0    0.0\n",
      "bnglr       0.0     0.0      0.0    0.0  0.0      0.0    0.0    0.0\n",
      "delhi       0.0     0.0      0.0    0.0  0.0      0.0    0.0    0.0\n",
      "         mumbai    pune  kolkata  vizag  hyd  chennai  bnglr  delhi\n",
      "mumbai      0.0  1080.0      0.0    0.0  0.0      0.0    0.0    0.0\n",
      "pune     1080.0     0.0      0.0    0.0  0.0      0.0    0.0    0.0\n",
      "kolkata     0.0     0.0      0.0    0.0  0.0   1300.0    0.0    0.0\n",
      "vizag       0.0     0.0      0.0    0.0  0.0      0.0    0.0    0.0\n",
      "hyd         0.0     0.0      0.0    0.0  0.0      0.0    0.0    0.0\n",
      "chennai     0.0     0.0   1300.0    0.0  0.0      0.0    0.0    0.0\n",
      "bnglr       0.0     0.0      0.0    0.0  0.0      0.0    0.0    0.0\n",
      "delhi       0.0     0.0      0.0    0.0  0.0      0.0    0.0    0.0\n",
      "         mumbai    pune  kolkata  vizag  hyd  chennai  bnglr   delhi\n",
      "mumbai      0.0  1080.0      0.0    0.0  0.0      0.0    0.0     0.0\n",
      "pune     1080.0     0.0      0.0    0.0  0.0      0.0    0.0     0.0\n",
      "kolkata     0.0     0.0      0.0    0.0  0.0   1300.0    0.0     0.0\n",
      "vizag       0.0     0.0      0.0    0.0  0.0      0.0    0.0     0.0\n",
      "hyd         0.0     0.0      0.0    0.0  0.0      0.0    0.0     0.0\n",
      "chennai     0.0     0.0   1300.0    0.0  0.0      0.0    0.0  1900.0\n",
      "bnglr       0.0     0.0      0.0    0.0  0.0      0.0    0.0     0.0\n",
      "delhi       0.0     0.0      0.0    0.0  0.0   1900.0    0.0     0.0\n",
      "delhi connected to\n",
      "['chennai']\n",
      "         mumbai    pune  kolkata  vizag  hyd  chennai  bnglr   delhi\n",
      "mumbai      0.0  1080.0      0.0    0.0  0.0      0.0    0.0     0.0\n",
      "pune     1080.0     0.0      0.0    0.0  0.0      0.0    0.0     0.0\n",
      "kolkata     0.0     0.0      0.0    0.0  0.0   1300.0    0.0     0.0\n",
      "vizag       0.0     0.0      0.0    0.0  0.0      0.0    0.0     0.0\n",
      "hyd         0.0     0.0      0.0    0.0  0.0      0.0    0.0     0.0\n",
      "chennai     0.0     0.0   1300.0    0.0  0.0      0.0    0.0  1900.0\n",
      "bnglr       0.0     0.0      0.0    0.0  0.0      0.0    0.0     0.0\n",
      "delhi       0.0     0.0      0.0    0.0  0.0   1900.0    0.0     0.0\n",
      "chennai connected to\n",
      "['kolkata', 'delhi']\n"
     ]
    },
    {
     "data": {
      "text/plain": [
       "[2, 7]"
      ]
     },
     "execution_count": 91,
     "metadata": {},
     "output_type": "execute_result"
    }
   ],
   "source": [
    "import abc\n",
    "import pandas as pd\n",
    "import numpy as np \n",
    "class Graph(abc.ABC):\n",
    "    def __init__(self,vertix,directed=False,v=[]):\n",
    "        self.vertix=vertix\n",
    "        self.directed=directed\n",
    "        self.v=[] \n",
    "    @abc.abstractmethod    \n",
    "    def add_vertex(self,newvertix):\n",
    "        pass\n",
    "    @abc.abstractmethod\n",
    "    def pdview(self,arr,lis):\n",
    "        pass\n",
    "    @abc.abstractmethod\n",
    "    def add_edge(self,v1,v2,weight=1):\n",
    "        pass\n",
    "    @abc.abstractmethod\n",
    "    def to_csv(self):\n",
    "        pass\n",
    "class AMG(Graph):\n",
    "    def __init__(self,v,vertix):\n",
    "        Graph.__init__(self,v,vertix)\n",
    "        #super(AMG,self).__init(self,v,vertix,directed)\n",
    "        self.matrix=np.zeros((len(self.v),len(self.v)))\n",
    "    def add_edge(self,v1,v2,weight):\n",
    "        if v1 and v2 not in self.v:\n",
    "            raise ValueError('vertices not matched to append edges')\n",
    "        row=self.v.index(v1)\n",
    "        #for caliculating indexes of matric in AMG\n",
    "        col=self.v.index(v2)\n",
    "        self.matrix[row][col]=weight\n",
    "        if self.directed==1:\n",
    "            self.matrix[col][row]=weight\n",
    "    def add_vertex(self,newvertix):\n",
    "        self.v.append(newvertix)\n",
    "        print(newvertix)\n",
    "        self.matrix=np.vstack((self.matrix, np.zeros(len(self.v)-1)) )\n",
    "        #vstack(old arr,new row) for adding row to numpy array\n",
    "        print(len(self.v))\n",
    "        self.matrix = np.column_stack((self.matrix, np.zeros(len(self.v))))\n",
    "        #column_stack for adding column to numpy array\n",
    "        return self.matrix,self.v\n",
    "    def pdview(self):\n",
    "        DF=pd.DataFrame(self.matrix,columns=self.v,index=self.v)\n",
    "        print(DF)\n",
    "    def get_adj_v(self,vertix):\n",
    "        print(vertix,'connected to')\n",
    "        if vertix not in self.v:\n",
    "            print('vlaue error')\n",
    "        resultindex=self.v.index(vertix)    \n",
    "        adj_matrix=[]\n",
    "        for i in range(len(self.v)):\n",
    "            if self.matrix[resultindex][i]>0:\n",
    "                adj_matrix.append(i)                \n",
    "        print([self.v[i] for i in adj_matrix])       \n",
    "        return adj_matrix\n",
    "    def to_csv(self):\n",
    "        DF=pd.DataFrame(self.matrix,columns=self.v,index=self.v)\n",
    "        DF.to_csv(r'C:\\Users\\behar\\file3.csv', index=True)\n",
    "d=AMG(1,1)\n",
    "d.add_vertex('mumbai')\n",
    "d.add_vertex('pune')\n",
    "d.add_vertex('kolkata')\n",
    "d.add_vertex('vizag')\n",
    "d.add_edge('mumbai','pune',1080)\n",
    "d.pdview()\n",
    "d.add_vertex('hyd')\n",
    "d.add_vertex('chennai')\n",
    "d.add_vertex('bnglr')\n",
    "d.add_vertex('delhi')\n",
    "d.pdview()\n",
    "d.add_edge('kolkata','chennai',1300)\n",
    "d.pdview()\n",
    "d.add_edge('delhi','chennai',1900)\n",
    "d.pdview()\n",
    "d.get_adj_v('delhi')\n",
    "d.pdview()\n",
    "d.get_adj_v('chennai')"
   ]
  },
  {
   "cell_type": "code",
   "execution_count": 92,
   "metadata": {},
   "outputs": [
    {
     "name": "stdout",
     "output_type": "stream",
     "text": [
      "         mumbai    pune  kolkata   vizag     hyd  chennai   bnglr   delhi\n",
      "mumbai      0.0  1080.0      0.0     0.0     0.0      0.0     0.0  2300.0\n",
      "pune     1080.0     0.0    800.0     0.0     0.0      0.0  1100.0     0.0\n",
      "kolkata     0.0   800.0      0.0   900.0     0.0   1300.0     0.0     0.0\n",
      "vizag       0.0     0.0    900.0     0.0   800.0    980.0     0.0  2800.0\n",
      "hyd         0.0     0.0      0.0   800.0     0.0      0.0  2100.0     0.0\n",
      "chennai     0.0     0.0   1300.0   980.0     0.0      0.0     0.0  1900.0\n",
      "bnglr       0.0  1100.0      0.0     0.0  2100.0      0.0     0.0     0.0\n",
      "delhi    2300.0     0.0      0.0  2800.0     0.0   1900.0     0.0     0.0\n",
      "kolkata connected to\n",
      "['pune', 'vizag', 'chennai']\n"
     ]
    },
    {
     "data": {
      "text/plain": [
       "[1, 3, 5]"
      ]
     },
     "execution_count": 92,
     "metadata": {},
     "output_type": "execute_result"
    }
   ],
   "source": [
    "d.add_edge('vizag','hyd',800)\n",
    "\n",
    "d.add_edge('vizag','chennai',980)\n",
    "\n",
    "d.add_edge('vizag','delhi',2800)\n",
    "\n",
    "d.add_edge('delhi','mumbai',2300)\n",
    "\n",
    "d.add_edge('bnglr','hyd',2100)\n",
    "d.add_edge('bnglr','pune',1100)\n",
    "d.add_edge('kolkata','pune',800)\n",
    "\n",
    "d.add_edge('kolkata','vizag',900)\n",
    "d.pdview()\n",
    "d.get_adj_v('kolkata')"
   ]
  },
  {
   "cell_type": "code",
   "execution_count": 93,
   "metadata": {},
   "outputs": [],
   "source": [
    "d.add_edge('bnglr','delhi',1980)\n",
    "d.add_edge('vizag','mumbai',1980)\n",
    "d.to_csv()"
   ]
  },
  {
   "cell_type": "code",
   "execution_count": null,
   "metadata": {},
   "outputs": [],
   "source": []
  },
  {
   "cell_type": "code",
   "execution_count": 81,
   "metadata": {},
   "outputs": [],
   "source": []
  },
  {
   "cell_type": "code",
   "execution_count": null,
   "metadata": {},
   "outputs": [],
   "source": []
  },
  {
   "cell_type": "code",
   "execution_count": null,
   "metadata": {},
   "outputs": [],
   "source": []
  },
  {
   "cell_type": "code",
   "execution_count": null,
   "metadata": {},
   "outputs": [],
   "source": []
  },
  {
   "cell_type": "code",
   "execution_count": null,
   "metadata": {},
   "outputs": [],
   "source": []
  },
  {
   "cell_type": "code",
   "execution_count": null,
   "metadata": {},
   "outputs": [],
   "source": []
  },
  {
   "cell_type": "code",
   "execution_count": null,
   "metadata": {},
   "outputs": [],
   "source": []
  },
  {
   "cell_type": "code",
   "execution_count": null,
   "metadata": {},
   "outputs": [],
   "source": []
  },
  {
   "cell_type": "code",
   "execution_count": 74,
   "metadata": {},
   "outputs": [],
   "source": []
  },
  {
   "cell_type": "code",
   "execution_count": null,
   "metadata": {},
   "outputs": [],
   "source": []
  }
 ],
 "metadata": {
  "kernelspec": {
   "display_name": "Python 3",
   "language": "python",
   "name": "python3"
  },
  "language_info": {
   "codemirror_mode": {
    "name": "ipython",
    "version": 3
   },
   "file_extension": ".py",
   "mimetype": "text/x-python",
   "name": "python",
   "nbconvert_exporter": "python",
   "pygments_lexer": "ipython3",
   "version": "3.7.1"
  }
 },
 "nbformat": 4,
 "nbformat_minor": 2
}
