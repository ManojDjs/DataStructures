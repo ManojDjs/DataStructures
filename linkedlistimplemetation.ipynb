{
 "cells": [
  {
   "cell_type": "code",
   "execution_count": 35,
   "metadata": {},
   "outputs": [],
   "source": [
    "#linked list implementation\n",
    "class Node:\n",
    "    def __init__(self,data):\n",
    "        self.data=data\n",
    "        self.next=None\n",
    "class L:\n",
    "    def __init__(self):\n",
    "        self.head=None\n",
    "    def Display(self):\n",
    "        temp=self.head\n",
    "        while(temp):\n",
    "            print(temp.data)\n",
    "            temp=temp.next\n",
    "    def insertatfirst(self,data):\n",
    "        newnode=Node(data)\n",
    "        newnode.next=self.head\n",
    "        self.head=newnode\n",
    "    def insertatend(self,data):\n",
    "        newnode=Node(data)\n",
    "        #if list is null value would be added to the head  else it would e added at end\n",
    "        if self.head==None:\n",
    "            self.head=newnode\n",
    "        else:\n",
    "            last=self.head    \n",
    "            while(last.next!=None):\n",
    "                last=last.next\n",
    "            last.next=newnode    \n",
    "    def deleteNode(self, key):  \n",
    "        # Store head node \n",
    "        temp = self.head \n",
    "        if(temp is not None):\n",
    "            if(temp.data==key):\n",
    "                self.head=temp.next\n",
    "                temp=None\n",
    "                return\n",
    "        prev=None\n",
    "        while temp and temp.data!=key:\n",
    "            prev=temp\n",
    "            temp=temp.next\n",
    "        if temp is None:\n",
    "            print('value not found')\n",
    "            return\n",
    "        prev.next=temp.next\n",
    "        temp=None\n",
    "            "
   ]
  },
  {
   "cell_type": "code",
   "execution_count": 36,
   "metadata": {},
   "outputs": [
    {
     "name": "stdout",
     "output_type": "stream",
     "text": [
      "7\n",
      "5\n",
      "2\n",
      "10\n",
      "1\n",
      "8\n"
     ]
    }
   ],
   "source": [
    "llist=L()\n",
    "llist.insertatend(10)\n",
    "llist.insertatfirst(2)\n",
    "llist.insertatfirst(5)\n",
    "llist.insertatfirst(7)\n",
    "llist.insertatend(1)\n",
    "llist.insertatend(8)\n",
    "#display operation \n",
    "llist.Display()\n"
   ]
  },
  {
   "cell_type": "code",
   "execution_count": null,
   "metadata": {},
   "outputs": [],
   "source": [
    "#delete key in the linked list\n"
   ]
  },
  {
   "cell_type": "code",
   "execution_count": 37,
   "metadata": {},
   "outputs": [
    {
     "name": "stdout",
     "output_type": "stream",
     "text": [
      "value not found\n",
      "7\n",
      "5\n",
      "2\n",
      "10\n",
      "1\n",
      "8\n"
     ]
    }
   ],
   "source": [
    "llist.deleteNode(20)\n",
    "llist.Display()"
   ]
  },
  {
   "cell_type": "code",
   "execution_count": null,
   "metadata": {},
   "outputs": [],
   "source": []
  }
 ],
 "metadata": {
  "kernelspec": {
   "display_name": "Python 3",
   "language": "python",
   "name": "python3"
  },
  "language_info": {
   "codemirror_mode": {
    "name": "ipython",
    "version": 3
   },
   "file_extension": ".py",
   "mimetype": "text/x-python",
   "name": "python",
   "nbconvert_exporter": "python",
   "pygments_lexer": "ipython3",
   "version": "3.7.1"
  }
 },
 "nbformat": 4,
 "nbformat_minor": 2
}
