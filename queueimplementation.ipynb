{
 "cells": [
  {
   "cell_type": "code",
   "execution_count": 4,
   "metadata": {},
   "outputs": [
    {
     "name": "stdout",
     "output_type": "stream",
     "text": [
      "0\n",
      "Full:  False\n",
      "Full:  True\n",
      "5\n",
      "9\n",
      "1\n",
      "Empty:  False\n",
      "7\n",
      "9\n",
      "10\n",
      "Empty:  True\n",
      "Full:  False\n"
     ]
    }
   ],
   "source": [
    "#queue is very easy with pyhton in built module\n",
    "import queue \n",
    "\n",
    "L = queue.Queue(maxsize=6) \n",
    "\n",
    "# qsize() give the maxsize \n",
    "# of the Queue \n",
    "print(L.qsize()) \n",
    "\n",
    "L.put(5) \n",
    "L.put(9) \n",
    "L.put(1) \n",
    "L.put(7) \n",
    "\n",
    "# Return Boolean for Full \n",
    "# Queue \n",
    "print(\"Full: \", L.full()) \n",
    "\n",
    "L.put(9) \n",
    "L.put(10) \n",
    "print(\"Full: \", L.full()) \n",
    "\n",
    "print(L.get()) \n",
    "print(L.get()) \n",
    "print(L.get()) \n",
    "\n",
    "# Return Boolean for Empty \n",
    "# Queue \n",
    "print(\"Empty: \", L.empty()) \n",
    "\n",
    "print(L.get()) \n",
    "print(L.get()) \n",
    "print(L.get()) \n",
    "\n",
    "print(\"Empty: \", L.empty()) \n",
    "print(\"Full: \", L.full()) \n",
    "\n",
    "# This would result into Infinite \n",
    "# Loop as the Queue is empty. \n",
    "# print(L.get())"
   ]
  },
  {
   "cell_type": "code",
   "execution_count": null,
   "metadata": {},
   "outputs": [],
   "source": []
  }
 ],
 "metadata": {
  "kernelspec": {
   "display_name": "Python 3",
   "language": "python",
   "name": "python3"
  },
  "language_info": {
   "codemirror_mode": {
    "name": "ipython",
    "version": 3
   },
   "file_extension": ".py",
   "mimetype": "text/x-python",
   "name": "python",
   "nbconvert_exporter": "python",
   "pygments_lexer": "ipython3",
   "version": "3.7.1"
  }
 },
 "nbformat": 4,
 "nbformat_minor": 2
}
